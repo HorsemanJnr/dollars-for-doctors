{
 "cells": [
  {
   "cell_type": "markdown",
   "metadata": {
    "colab_type": "text",
    "id": "4Pd5Tgd-Zup4"
   },
   "source": [
    "***BIG DATA RESEARCH PROJECT: INVESTIGATING DONATION BIAS ON PHYSICIAN DRUG PRESCRIPTIONS***\n",
    "\n",
    "---\n",
    "\n",
    "\n"
   ]
  },
  {
   "cell_type": "markdown",
   "metadata": {
    "colab_type": "text",
    "id": "nBBgBBHFcnnW"
   },
   "source": [
    "***STEP 1: PARSING/CLEANING THE DATA ***\n",
    "\n",
    "1.   [Accepted donations made to doctors from 2013 to 2017 ](https://openpaymentsdata.cms.gov/browse) \n",
    "2.   [Prescriptions made by Medicare physicians](https://data.cms.gov/Medicare-Part-D/Medicare-Provider-Utilization-and-Payment-Data-201/3z4d-vmhm)\n",
    "**NOTE: try to find more calendar years** [Link to more years of data](https://www.cms.gov/Research-Statistics-Data-and-Systems/Statistics-Trends-and-Reports/Medicare-Provider-Charge-Data/Part-D-Prescriber.html)\n",
    "3. [List of drugs, their producer, and their prices](https://www.cms.gov/Research-Statistics-Data-and-Systems/Statistics-Trends-and-Reports/Information-on-Prescription-Drugs/Downloads/Medicare_PartD_Drug_Spending_Data.zip)\n"
   ]
  },
  {
   "cell_type": "code",
   "execution_count": 1,
   "metadata": {
    "ExecuteTime": {
     "end_time": "2019-05-01T18:30:47.232782Z",
     "start_time": "2019-05-01T18:30:44.138083Z"
    },
    "colab": {},
    "colab_type": "code",
    "id": "u2YSC_vv1qZc"
   },
   "outputs": [],
   "source": [
    "import pandas as pd\n",
    "import matplotlib.pyplot as plt\n",
    "import seaborn as sns\n",
    "import numpy as np\n",
    "import plotly\n",
    "import dask.dataframe as dd"
   ]
  },
  {
   "cell_type": "code",
   "execution_count": 2,
   "metadata": {
    "ExecuteTime": {
     "end_time": "2019-05-01T18:30:47.332970Z",
     "start_time": "2019-05-01T18:30:47.235431Z"
    },
    "colab": {},
    "colab_type": "code",
    "id": "4lW0TfU2BuWv"
   },
   "outputs": [
    {
     "data": {
      "text/html": [
       "<div>\n",
       "<style scoped>\n",
       "    .dataframe tbody tr th:only-of-type {\n",
       "        vertical-align: middle;\n",
       "    }\n",
       "\n",
       "    .dataframe tbody tr th {\n",
       "        vertical-align: top;\n",
       "    }\n",
       "\n",
       "    .dataframe thead th {\n",
       "        text-align: right;\n",
       "    }\n",
       "</style>\n",
       "<table border=\"1\" class=\"dataframe\">\n",
       "  <thead>\n",
       "    <tr style=\"text-align: right;\">\n",
       "      <th></th>\n",
       "      <th>Brand Name</th>\n",
       "      <th>Generic Name</th>\n",
       "      <th>Manufacturer</th>\n",
       "      <th>Total Spending</th>\n",
       "      <th>Total Dosage Units</th>\n",
       "      <th>Total \n",
       "Claims</th>\n",
       "      <th>Total Beneficiaries</th>\n",
       "      <th>Average Spending Per Dosage Unit (Weighted)</th>\n",
       "      <th>Average Spending Per Claim</th>\n",
       "      <th>Average Spending Per Beneficiary</th>\n",
       "    </tr>\n",
       "  </thead>\n",
       "  <tbody>\n",
       "    <tr>\n",
       "      <th>0</th>\n",
       "      <td>1st Tier Unifine Pentips</td>\n",
       "      <td>Pen Needle, Diabetic</td>\n",
       "      <td>Owen Mumford Us</td>\n",
       "      <td>$215,930.43</td>\n",
       "      <td>1,050,323</td>\n",
       "      <td>8,897</td>\n",
       "      <td>3,423</td>\n",
       "      <td>$0.21</td>\n",
       "      <td>$24.27</td>\n",
       "      <td>$63.08</td>\n",
       "    </tr>\n",
       "    <tr>\n",
       "      <th>1</th>\n",
       "      <td>1st Tier Unifine Pentips Plus</td>\n",
       "      <td>Pen Needle, Diabetic</td>\n",
       "      <td>Owen Mumford Us</td>\n",
       "      <td>$378,001.19</td>\n",
       "      <td>1,750,607</td>\n",
       "      <td>14,611</td>\n",
       "      <td>6,456</td>\n",
       "      <td>$0.22</td>\n",
       "      <td>$25.87</td>\n",
       "      <td>$58.55</td>\n",
       "    </tr>\n",
       "    <tr>\n",
       "      <th>2</th>\n",
       "      <td>Abacavir</td>\n",
       "      <td>Abacavir Sulfate</td>\n",
       "      <td>Apotex Corp</td>\n",
       "      <td>$2,491,345.83</td>\n",
       "      <td>533,661</td>\n",
       "      <td>8,449</td>\n",
       "      <td>2,320</td>\n",
       "      <td>$4.67</td>\n",
       "      <td>$294.87</td>\n",
       "      <td>$1,073.86</td>\n",
       "    </tr>\n",
       "    <tr>\n",
       "      <th>3</th>\n",
       "      <td>Abacavir</td>\n",
       "      <td>Abacavir Sulfate</td>\n",
       "      <td>Aurobindo Pharm</td>\n",
       "      <td>$7,154,093.03</td>\n",
       "      <td>1,558,949</td>\n",
       "      <td>25,385</td>\n",
       "      <td>4,602</td>\n",
       "      <td>$4.59</td>\n",
       "      <td>$281.82</td>\n",
       "      <td>$1,554.56</td>\n",
       "    </tr>\n",
       "    <tr>\n",
       "      <th>4</th>\n",
       "      <td>Abacavir</td>\n",
       "      <td>Abacavir Sulfate</td>\n",
       "      <td>Camber Pharmace</td>\n",
       "      <td>$6,766,490.99</td>\n",
       "      <td>1,547,860</td>\n",
       "      <td>23,189</td>\n",
       "      <td>4,580</td>\n",
       "      <td>$4.37</td>\n",
       "      <td>$291.80</td>\n",
       "      <td>$1,477.40</td>\n",
       "    </tr>\n",
       "    <tr>\n",
       "      <th>5</th>\n",
       "      <td>Abacavir</td>\n",
       "      <td>Abacavir Sulfate</td>\n",
       "      <td>Mylan</td>\n",
       "      <td>$2,925,844.14</td>\n",
       "      <td>613,193</td>\n",
       "      <td>9,503</td>\n",
       "      <td>2,855</td>\n",
       "      <td>$4.77</td>\n",
       "      <td>$307.89</td>\n",
       "      <td>$1,024.81</td>\n",
       "    </tr>\n",
       "    <tr>\n",
       "      <th>6</th>\n",
       "      <td>Abacavir-Lamivudine</td>\n",
       "      <td>Abacavir Sulfate/Lamivudine</td>\n",
       "      <td>Prasco Labs</td>\n",
       "      <td>$6,765,112.20</td>\n",
       "      <td>199,418</td>\n",
       "      <td>6,430</td>\n",
       "      <td></td>\n",
       "      <td>$33.92</td>\n",
       "      <td>$1,052.12</td>\n",
       "      <td></td>\n",
       "    </tr>\n",
       "    <tr>\n",
       "      <th>7</th>\n",
       "      <td>Abacavir-Lamivudine</td>\n",
       "      <td>Abacavir Sulfate/Lamivudine</td>\n",
       "      <td>Teva USA</td>\n",
       "      <td>$7,990,669.89</td>\n",
       "      <td>240,422</td>\n",
       "      <td>7,476</td>\n",
       "      <td></td>\n",
       "      <td>$33.24</td>\n",
       "      <td>$1,068.84</td>\n",
       "      <td></td>\n",
       "    </tr>\n",
       "    <tr>\n",
       "      <th>8</th>\n",
       "      <td>Abacavir-Lamivudine-Zidovudine</td>\n",
       "      <td>Abacavir/Lamivudine/Zidovudine</td>\n",
       "      <td>Lupin Pharmaceu</td>\n",
       "      <td>$12,787,721.57</td>\n",
       "      <td>608,455</td>\n",
       "      <td>9,768</td>\n",
       "      <td>1,333</td>\n",
       "      <td>$21.02</td>\n",
       "      <td>$1,309.14</td>\n",
       "      <td>$9,593.19</td>\n",
       "    </tr>\n",
       "    <tr>\n",
       "      <th>9</th>\n",
       "      <td>Abelcet</td>\n",
       "      <td>Amphotericin B Lipid Complex</td>\n",
       "      <td>Sigma-Tau/Leadi</td>\n",
       "      <td>$752,938.84</td>\n",
       "      <td>85,650</td>\n",
       "      <td>476</td>\n",
       "      <td></td>\n",
       "      <td>$8.79</td>\n",
       "      <td>$1,581.80</td>\n",
       "      <td></td>\n",
       "    </tr>\n",
       "    <tr>\n",
       "      <th>10</th>\n",
       "      <td>Abilify</td>\n",
       "      <td>Aripiprazole</td>\n",
       "      <td>Otsuka America</td>\n",
       "      <td>$91,965,210.13</td>\n",
       "      <td>2,917,398</td>\n",
       "      <td>96,886</td>\n",
       "      <td>39,246</td>\n",
       "      <td>$31.50</td>\n",
       "      <td>$949.21</td>\n",
       "      <td>$2,343.30</td>\n",
       "    </tr>\n",
       "    <tr>\n",
       "      <th>11</th>\n",
       "      <td>Abilify Maintena</td>\n",
       "      <td>Aripiprazole</td>\n",
       "      <td>Otsuka America</td>\n",
       "      <td>$201,856,628.39</td>\n",
       "      <td>117,247</td>\n",
       "      <td>116,230</td>\n",
       "      <td>17,158</td>\n",
       "      <td>$1,721.52</td>\n",
       "      <td>$1,736.70</td>\n",
       "      <td>$11,764.58</td>\n",
       "    </tr>\n",
       "    <tr>\n",
       "      <th>12</th>\n",
       "      <td>Abraxane</td>\n",
       "      <td>Paclitaxel Protein-Bound</td>\n",
       "      <td>Celgene</td>\n",
       "      <td>$5,472,304.71</td>\n",
       "      <td>4,766</td>\n",
       "      <td>890</td>\n",
       "      <td>247</td>\n",
       "      <td>$1,148.29</td>\n",
       "      <td>$6,148.66</td>\n",
       "      <td>$22,155.08</td>\n",
       "    </tr>\n",
       "    <tr>\n",
       "      <th>13</th>\n",
       "      <td>Absorica</td>\n",
       "      <td>Isotretinoin</td>\n",
       "      <td>Ranbaxy/Sun Pha</td>\n",
       "      <td>$124,497.92</td>\n",
       "      <td>3,960</td>\n",
       "      <td>89</td>\n",
       "      <td>49</td>\n",
       "      <td>$31.44</td>\n",
       "      <td>$1,398.85</td>\n",
       "      <td>$2,540.77</td>\n",
       "    </tr>\n",
       "    <tr>\n",
       "      <th>14</th>\n",
       "      <td>Acamprosate Calcium</td>\n",
       "      <td>Acamprosate Calcium</td>\n",
       "      <td>Glenmark Pharma</td>\n",
       "      <td>$3,105,826.66</td>\n",
       "      <td>3,302,434</td>\n",
       "      <td>20,624</td>\n",
       "      <td>7,150</td>\n",
       "      <td>$0.94</td>\n",
       "      <td>$150.59</td>\n",
       "      <td>$434.38</td>\n",
       "    </tr>\n",
       "    <tr>\n",
       "      <th>15</th>\n",
       "      <td>Acamprosate Calcium</td>\n",
       "      <td>Acamprosate Calcium</td>\n",
       "      <td>Mylan</td>\n",
       "      <td>$939,318.53</td>\n",
       "      <td>1,058,141</td>\n",
       "      <td>6,855</td>\n",
       "      <td>3,101</td>\n",
       "      <td>$0.89</td>\n",
       "      <td>$137.03</td>\n",
       "      <td>$302.91</td>\n",
       "    </tr>\n",
       "    <tr>\n",
       "      <th>16</th>\n",
       "      <td>Acamprosate Calcium</td>\n",
       "      <td>Acamprosate Calcium</td>\n",
       "      <td>Mylan Instituti</td>\n",
       "      <td>$55,190.79</td>\n",
       "      <td>58,486</td>\n",
       "      <td>414</td>\n",
       "      <td>198</td>\n",
       "      <td>$0.94</td>\n",
       "      <td>$133.31</td>\n",
       "      <td>$278.74</td>\n",
       "    </tr>\n",
       "    <tr>\n",
       "      <th>17</th>\n",
       "      <td>Acamprosate Calcium</td>\n",
       "      <td>Acamprosate Calcium</td>\n",
       "      <td>Teva USA</td>\n",
       "      <td>$535,556.85</td>\n",
       "      <td>545,121</td>\n",
       "      <td>3,136</td>\n",
       "      <td></td>\n",
       "      <td>$0.98</td>\n",
       "      <td>$170.78</td>\n",
       "      <td></td>\n",
       "    </tr>\n",
       "    <tr>\n",
       "      <th>18</th>\n",
       "      <td>Acanya</td>\n",
       "      <td>Clindamycin Phos/Benzoyl Perox</td>\n",
       "      <td>Valeant</td>\n",
       "      <td>$293,488.75</td>\n",
       "      <td>33,180</td>\n",
       "      <td>630</td>\n",
       "      <td>354</td>\n",
       "      <td>$8.85</td>\n",
       "      <td>$465.86</td>\n",
       "      <td>$829.06</td>\n",
       "    </tr>\n",
       "    <tr>\n",
       "      <th>19</th>\n",
       "      <td>Acarbose</td>\n",
       "      <td>Acarbose</td>\n",
       "      <td>Actavis Pharma/</td>\n",
       "      <td>$1,032,584.73</td>\n",
       "      <td>2,791,113</td>\n",
       "      <td>20,614</td>\n",
       "      <td></td>\n",
       "      <td>$0.37</td>\n",
       "      <td>$50.09</td>\n",
       "      <td></td>\n",
       "    </tr>\n",
       "    <tr>\n",
       "      <th>20</th>\n",
       "      <td>Acarbose</td>\n",
       "      <td>Acarbose</td>\n",
       "      <td>Alvogen Inc</td>\n",
       "      <td>$1,317,934.32</td>\n",
       "      <td>3,015,623</td>\n",
       "      <td>23,232</td>\n",
       "      <td>7,137</td>\n",
       "      <td>$0.44</td>\n",
       "      <td>$56.73</td>\n",
       "      <td>$184.66</td>\n",
       "    </tr>\n",
       "    <tr>\n",
       "      <th>21</th>\n",
       "      <td>Acarbose</td>\n",
       "      <td>Acarbose</td>\n",
       "      <td>Global Pharm</td>\n",
       "      <td>$60,075.13</td>\n",
       "      <td>115,570</td>\n",
       "      <td>1,002</td>\n",
       "      <td>1,334</td>\n",
       "      <td>$0.52</td>\n",
       "      <td>$59.96</td>\n",
       "      <td>$45.03</td>\n",
       "    </tr>\n",
       "    <tr>\n",
       "      <th>22</th>\n",
       "      <td>Acarbose</td>\n",
       "      <td>Acarbose</td>\n",
       "      <td>Global/Impax</td>\n",
       "      <td>$115,165.44</td>\n",
       "      <td>244,849</td>\n",
       "      <td>1,892</td>\n",
       "      <td></td>\n",
       "      <td>$0.47</td>\n",
       "      <td>$60.87</td>\n",
       "      <td></td>\n",
       "    </tr>\n",
       "    <tr>\n",
       "      <th>23</th>\n",
       "      <td>Acarbose</td>\n",
       "      <td>Acarbose</td>\n",
       "      <td>Heritage Pharma</td>\n",
       "      <td>$184,686.92</td>\n",
       "      <td>448,912</td>\n",
       "      <td>4,433</td>\n",
       "      <td>2,470</td>\n",
       "      <td>$0.41</td>\n",
       "      <td>$41.66</td>\n",
       "      <td>$74.77</td>\n",
       "    </tr>\n",
       "    <tr>\n",
       "      <th>24</th>\n",
       "      <td>Acarbose</td>\n",
       "      <td>Acarbose</td>\n",
       "      <td>Mylan</td>\n",
       "      <td>$455,694.83</td>\n",
       "      <td>1,118,664</td>\n",
       "      <td>8,878</td>\n",
       "      <td>4,211</td>\n",
       "      <td>$0.41</td>\n",
       "      <td>$51.33</td>\n",
       "      <td>$108.22</td>\n",
       "    </tr>\n",
       "    <tr>\n",
       "      <th>25</th>\n",
       "      <td>Acarbose</td>\n",
       "      <td>Acarbose</td>\n",
       "      <td>Roxane/West-War</td>\n",
       "      <td>$2,117,200.42</td>\n",
       "      <td>5,179,156</td>\n",
       "      <td>48,311</td>\n",
       "      <td>14,438</td>\n",
       "      <td>$0.41</td>\n",
       "      <td>$43.82</td>\n",
       "      <td>$146.64</td>\n",
       "    </tr>\n",
       "    <tr>\n",
       "      <th>26</th>\n",
       "      <td>Acarbose</td>\n",
       "      <td>Acarbose</td>\n",
       "      <td>Strides Pharma</td>\n",
       "      <td>$1,412,045.24</td>\n",
       "      <td>3,606,788</td>\n",
       "      <td>28,882</td>\n",
       "      <td>9,124</td>\n",
       "      <td>$0.39</td>\n",
       "      <td>$48.89</td>\n",
       "      <td>$154.76</td>\n",
       "    </tr>\n",
       "    <tr>\n",
       "      <th>27</th>\n",
       "      <td>Acarbose</td>\n",
       "      <td>Acarbose</td>\n",
       "      <td>Virtus Pharmace</td>\n",
       "      <td>$3,410,264.50</td>\n",
       "      <td>8,940,493</td>\n",
       "      <td>64,806</td>\n",
       "      <td>16,989</td>\n",
       "      <td>$0.38</td>\n",
       "      <td>$52.62</td>\n",
       "      <td>$200.73</td>\n",
       "    </tr>\n",
       "    <tr>\n",
       "      <th>28</th>\n",
       "      <td>Accolate</td>\n",
       "      <td>Zafirlukast</td>\n",
       "      <td>Par Pharmaceuti</td>\n",
       "      <td>$149,572.78</td>\n",
       "      <td>41,218</td>\n",
       "      <td>426</td>\n",
       "      <td>259</td>\n",
       "      <td>$3.63</td>\n",
       "      <td>$351.11</td>\n",
       "      <td>$577.50</td>\n",
       "    </tr>\n",
       "    <tr>\n",
       "      <th>29</th>\n",
       "      <td>Accupril</td>\n",
       "      <td>Quinapril HCl</td>\n",
       "      <td>Pfizer US Pharm</td>\n",
       "      <td>$2,129,447.52</td>\n",
       "      <td>628,104</td>\n",
       "      <td>8,133</td>\n",
       "      <td>1,742</td>\n",
       "      <td>$3.39</td>\n",
       "      <td>$261.83</td>\n",
       "      <td>$1,222.42</td>\n",
       "    </tr>\n",
       "    <tr>\n",
       "      <th>...</th>\n",
       "      <td>...</td>\n",
       "      <td>...</td>\n",
       "      <td>...</td>\n",
       "      <td>...</td>\n",
       "      <td>...</td>\n",
       "      <td>...</td>\n",
       "      <td>...</td>\n",
       "      <td>...</td>\n",
       "      <td>...</td>\n",
       "      <td>...</td>\n",
       "    </tr>\n",
       "    <tr>\n",
       "      <th>7186</th>\n",
       "      <td>Zonisamide</td>\n",
       "      <td>Zonisamide</td>\n",
       "      <td>Mylan Instituti</td>\n",
       "      <td>$42,662.00</td>\n",
       "      <td>139,926</td>\n",
       "      <td>1,356</td>\n",
       "      <td>216</td>\n",
       "      <td>$0.30</td>\n",
       "      <td>$31.46</td>\n",
       "      <td>$197.51</td>\n",
       "    </tr>\n",
       "    <tr>\n",
       "      <th>7187</th>\n",
       "      <td>Zonisamide</td>\n",
       "      <td>Zonisamide</td>\n",
       "      <td>Sun Pharmaceuti</td>\n",
       "      <td>$794,433.94</td>\n",
       "      <td>3,425,504</td>\n",
       "      <td>32,032</td>\n",
       "      <td>9,097</td>\n",
       "      <td>$0.23</td>\n",
       "      <td>$24.80</td>\n",
       "      <td>$87.33</td>\n",
       "    </tr>\n",
       "    <tr>\n",
       "      <th>7188</th>\n",
       "      <td>Zontivity</td>\n",
       "      <td>Vorapaxar Sulfate</td>\n",
       "      <td>Merck Sharp &amp; D</td>\n",
       "      <td>$2,469,449.11</td>\n",
       "      <td>257,727</td>\n",
       "      <td>6,620</td>\n",
       "      <td>1,486</td>\n",
       "      <td>$9.58</td>\n",
       "      <td>$373.03</td>\n",
       "      <td>$1,661.81</td>\n",
       "    </tr>\n",
       "    <tr>\n",
       "      <th>7189</th>\n",
       "      <td>Zortress</td>\n",
       "      <td>Everolimus</td>\n",
       "      <td>Novartis</td>\n",
       "      <td>$10,889,516.91</td>\n",
       "      <td>681,893</td>\n",
       "      <td>4,652</td>\n",
       "      <td>775</td>\n",
       "      <td>$16.29</td>\n",
       "      <td>$2,340.82</td>\n",
       "      <td>$14,050.99</td>\n",
       "    </tr>\n",
       "    <tr>\n",
       "      <th>7190</th>\n",
       "      <td>Zorvolex</td>\n",
       "      <td>Diclofenac Submicronized</td>\n",
       "      <td>Iroko Pharmaceu</td>\n",
       "      <td>$3,212,296.21</td>\n",
       "      <td>1,002,478</td>\n",
       "      <td>12,628</td>\n",
       "      <td>4,179</td>\n",
       "      <td>$3.20</td>\n",
       "      <td>$254.38</td>\n",
       "      <td>$768.68</td>\n",
       "    </tr>\n",
       "    <tr>\n",
       "      <th>7191</th>\n",
       "      <td>Zostavax</td>\n",
       "      <td>Zoster Vaccine Live/PF</td>\n",
       "      <td>Merck Sharp &amp; D</td>\n",
       "      <td>$180,548,938.77</td>\n",
       "      <td>834,299</td>\n",
       "      <td>835,358</td>\n",
       "      <td>833,957</td>\n",
       "      <td>$216.41</td>\n",
       "      <td>$216.13</td>\n",
       "      <td>$216.50</td>\n",
       "    </tr>\n",
       "    <tr>\n",
       "      <th>7192</th>\n",
       "      <td>Zosyn</td>\n",
       "      <td>Piperacillin Sodium/Tazobactam</td>\n",
       "      <td>Wyeth/Pfizer</td>\n",
       "      <td>$25,051.52</td>\n",
       "      <td>29,639</td>\n",
       "      <td>98</td>\n",
       "      <td></td>\n",
       "      <td>$0.85</td>\n",
       "      <td>$255.63</td>\n",
       "      <td></td>\n",
       "    </tr>\n",
       "    <tr>\n",
       "      <th>7193</th>\n",
       "      <td>Zosyn</td>\n",
       "      <td>Piperacillin-Tazo-Dextrose,Iso</td>\n",
       "      <td>Wyeth/Pfizer</td>\n",
       "      <td>$1,814,122.74</td>\n",
       "      <td>4,026,912</td>\n",
       "      <td>6,794</td>\n",
       "      <td></td>\n",
       "      <td>$0.47</td>\n",
       "      <td>$267.02</td>\n",
       "      <td></td>\n",
       "    </tr>\n",
       "    <tr>\n",
       "      <th>7194</th>\n",
       "      <td>Zovia 1-35e</td>\n",
       "      <td>Ethynodiol D-Ethinyl Estradiol</td>\n",
       "      <td>Actavis/Mayne P</td>\n",
       "      <td>$58,596.25</td>\n",
       "      <td>85,955</td>\n",
       "      <td>2,027</td>\n",
       "      <td></td>\n",
       "      <td>$0.68</td>\n",
       "      <td>$28.91</td>\n",
       "      <td></td>\n",
       "    </tr>\n",
       "    <tr>\n",
       "      <th>7195</th>\n",
       "      <td>Zovia 1-35e</td>\n",
       "      <td>Ethynodiol D-Ethinyl Estradiol</td>\n",
       "      <td>Mayne Pharma In</td>\n",
       "      <td>$15,842.17</td>\n",
       "      <td>23,184</td>\n",
       "      <td>514</td>\n",
       "      <td></td>\n",
       "      <td>$0.68</td>\n",
       "      <td>$30.82</td>\n",
       "      <td></td>\n",
       "    </tr>\n",
       "    <tr>\n",
       "      <th>7196</th>\n",
       "      <td>Zovia 1-50e</td>\n",
       "      <td>Ethynodiol D-Ethinyl Estradiol</td>\n",
       "      <td>Actavis Pharma/</td>\n",
       "      <td>$51,627.19</td>\n",
       "      <td>63,616</td>\n",
       "      <td>1,545</td>\n",
       "      <td></td>\n",
       "      <td>$0.81</td>\n",
       "      <td>$33.42</td>\n",
       "      <td></td>\n",
       "    </tr>\n",
       "    <tr>\n",
       "      <th>7197</th>\n",
       "      <td>Zovirax*</td>\n",
       "      <td>Acyclovir</td>\n",
       "      <td>Prestium/Mylan</td>\n",
       "      <td>$150,954.29</td>\n",
       "      <td>17,006</td>\n",
       "      <td>212</td>\n",
       "      <td>98</td>\n",
       "      <td>$8.88</td>\n",
       "      <td>$712.05</td>\n",
       "      <td>$1,540.35</td>\n",
       "    </tr>\n",
       "    <tr>\n",
       "      <th>7198</th>\n",
       "      <td>Zovirax*</td>\n",
       "      <td>Acyclovir</td>\n",
       "      <td>Valeant</td>\n",
       "      <td>$20,412,043.15</td>\n",
       "      <td>181,610</td>\n",
       "      <td>23,430</td>\n",
       "      <td>15,692</td>\n",
       "      <td>$129.29</td>\n",
       "      <td>$871.19</td>\n",
       "      <td>$1,300.79</td>\n",
       "    </tr>\n",
       "    <tr>\n",
       "      <th>7199</th>\n",
       "      <td>Zubsolv</td>\n",
       "      <td>Buprenorphine HCl/Naloxone HCl</td>\n",
       "      <td>Orexo US, Inc.</td>\n",
       "      <td>$2,931,730.72</td>\n",
       "      <td>386,067</td>\n",
       "      <td>8,974</td>\n",
       "      <td>1,521</td>\n",
       "      <td>$7.67</td>\n",
       "      <td>$326.69</td>\n",
       "      <td>$1,927.50</td>\n",
       "    </tr>\n",
       "    <tr>\n",
       "      <th>7200</th>\n",
       "      <td>Zuplenz</td>\n",
       "      <td>Ondansetron</td>\n",
       "      <td>Galena Biopharm</td>\n",
       "      <td>$252,690.05</td>\n",
       "      <td>9,196</td>\n",
       "      <td>251</td>\n",
       "      <td></td>\n",
       "      <td>$27.52</td>\n",
       "      <td>$1,006.73</td>\n",
       "      <td></td>\n",
       "    </tr>\n",
       "    <tr>\n",
       "      <th>7201</th>\n",
       "      <td>Zyban</td>\n",
       "      <td>Bupropion HCl</td>\n",
       "      <td>Glaxosmithkline</td>\n",
       "      <td>$32,886.28</td>\n",
       "      <td>8,324</td>\n",
       "      <td>128</td>\n",
       "      <td>61</td>\n",
       "      <td>$3.95</td>\n",
       "      <td>$256.92</td>\n",
       "      <td>$539.12</td>\n",
       "    </tr>\n",
       "    <tr>\n",
       "      <th>7202</th>\n",
       "      <td>Zyclara</td>\n",
       "      <td>Imiquimod</td>\n",
       "      <td>Valeant</td>\n",
       "      <td>$2,662,781.82</td>\n",
       "      <td>29,260</td>\n",
       "      <td>2,442</td>\n",
       "      <td>1,857</td>\n",
       "      <td>$117.20</td>\n",
       "      <td>$1,090.41</td>\n",
       "      <td>$1,433.92</td>\n",
       "    </tr>\n",
       "    <tr>\n",
       "      <th>7203</th>\n",
       "      <td>Zydelig</td>\n",
       "      <td>Idelalisib</td>\n",
       "      <td>Gilead Sciences</td>\n",
       "      <td>$60,592,158.27</td>\n",
       "      <td>396,324</td>\n",
       "      <td>6,781</td>\n",
       "      <td>1,377</td>\n",
       "      <td>$152.89</td>\n",
       "      <td>$8,935.58</td>\n",
       "      <td>$44,003.02</td>\n",
       "    </tr>\n",
       "    <tr>\n",
       "      <th>7204</th>\n",
       "      <td>Zyflo</td>\n",
       "      <td>Zileuton</td>\n",
       "      <td>Chiesi USA, Inc</td>\n",
       "      <td>$3,943,674.77</td>\n",
       "      <td>149,901</td>\n",
       "      <td>1,223</td>\n",
       "      <td>264</td>\n",
       "      <td>$26.31</td>\n",
       "      <td>$3,224.59</td>\n",
       "      <td>$14,938.16</td>\n",
       "    </tr>\n",
       "    <tr>\n",
       "      <th>7205</th>\n",
       "      <td>Zyflo Cr</td>\n",
       "      <td>Zileuton</td>\n",
       "      <td>Chiesi USA, Inc</td>\n",
       "      <td>$18,156,159.96</td>\n",
       "      <td>695,961</td>\n",
       "      <td>4,856</td>\n",
       "      <td>865</td>\n",
       "      <td>$26.09</td>\n",
       "      <td>$3,738.91</td>\n",
       "      <td>$20,989.78</td>\n",
       "    </tr>\n",
       "    <tr>\n",
       "      <th>7206</th>\n",
       "      <td>Zykadia</td>\n",
       "      <td>Ceritinib</td>\n",
       "      <td>Novartis</td>\n",
       "      <td>$19,128,191.16</td>\n",
       "      <td>199,473</td>\n",
       "      <td>1,774</td>\n",
       "      <td>323</td>\n",
       "      <td>$95.89</td>\n",
       "      <td>$10,782.52</td>\n",
       "      <td>$59,220.41</td>\n",
       "    </tr>\n",
       "    <tr>\n",
       "      <th>7207</th>\n",
       "      <td>Zylet</td>\n",
       "      <td>Tobramycin/Lotepred Etab</td>\n",
       "      <td>Valeant</td>\n",
       "      <td>$4,145,074.71</td>\n",
       "      <td>104,254</td>\n",
       "      <td>17,972</td>\n",
       "      <td>12,979</td>\n",
       "      <td>$39.76</td>\n",
       "      <td>$230.64</td>\n",
       "      <td>$319.37</td>\n",
       "    </tr>\n",
       "    <tr>\n",
       "      <th>7208</th>\n",
       "      <td>Zyloprim</td>\n",
       "      <td>Allopurinol</td>\n",
       "      <td>Prometh/Casper</td>\n",
       "      <td>$199,480.71</td>\n",
       "      <td>71,801</td>\n",
       "      <td>1,105</td>\n",
       "      <td></td>\n",
       "      <td>$3.02</td>\n",
       "      <td>$180.53</td>\n",
       "      <td></td>\n",
       "    </tr>\n",
       "    <tr>\n",
       "      <th>7209</th>\n",
       "      <td>Zymaxid</td>\n",
       "      <td>Gatifloxacin</td>\n",
       "      <td>Allergan Inc.</td>\n",
       "      <td>$2,359,744.54</td>\n",
       "      <td>85,958</td>\n",
       "      <td>23,410</td>\n",
       "      <td>17,364</td>\n",
       "      <td>$27.45</td>\n",
       "      <td>$100.80</td>\n",
       "      <td>$135.90</td>\n",
       "    </tr>\n",
       "    <tr>\n",
       "      <th>7210</th>\n",
       "      <td>Zyprexa Relprevv</td>\n",
       "      <td>Olanzapine Pamoate</td>\n",
       "      <td>Eli Lilly &amp; Co.</td>\n",
       "      <td>$6,792,150.56</td>\n",
       "      <td>6,841</td>\n",
       "      <td>5,983</td>\n",
       "      <td>548</td>\n",
       "      <td>$1,001.48</td>\n",
       "      <td>$1,135.24</td>\n",
       "      <td>$12,394.44</td>\n",
       "    </tr>\n",
       "    <tr>\n",
       "      <th>7211</th>\n",
       "      <td>Zyprexa Zydis</td>\n",
       "      <td>Olanzapine</td>\n",
       "      <td>Eli Lilly &amp; Co.</td>\n",
       "      <td>$4,441,492.23</td>\n",
       "      <td>171,442</td>\n",
       "      <td>3,962</td>\n",
       "      <td>563</td>\n",
       "      <td>$26.33</td>\n",
       "      <td>$1,121.02</td>\n",
       "      <td>$7,888.97</td>\n",
       "    </tr>\n",
       "    <tr>\n",
       "      <th>7212</th>\n",
       "      <td>Zyprexa*</td>\n",
       "      <td>Olanzapine</td>\n",
       "      <td>Eli Lilly &amp; Co.*</td>\n",
       "      <td>$22,329,392.09</td>\n",
       "      <td>1,029,470</td>\n",
       "      <td>24,619</td>\n",
       "      <td>3,393</td>\n",
       "      <td>$22.49</td>\n",
       "      <td>$907.00</td>\n",
       "      <td>$6,581.02</td>\n",
       "    </tr>\n",
       "    <tr>\n",
       "      <th>7213</th>\n",
       "      <td>Zytiga</td>\n",
       "      <td>Abiraterone Acetate</td>\n",
       "      <td>Janssen Biotech</td>\n",
       "      <td>$823,103,701.99</td>\n",
       "      <td>11,514,185</td>\n",
       "      <td>96,768</td>\n",
       "      <td>16,249</td>\n",
       "      <td>$71.49</td>\n",
       "      <td>$8,505.95</td>\n",
       "      <td>$50,655.65</td>\n",
       "    </tr>\n",
       "    <tr>\n",
       "      <th>7214</th>\n",
       "      <td>Zyvox*</td>\n",
       "      <td>Linezolid</td>\n",
       "      <td>Phar-Prep/Pfize</td>\n",
       "      <td>$137,422.66</td>\n",
       "      <td>527,100</td>\n",
       "      <td>139</td>\n",
       "      <td></td>\n",
       "      <td>$0.26</td>\n",
       "      <td>$988.65</td>\n",
       "      <td></td>\n",
       "    </tr>\n",
       "    <tr>\n",
       "      <th>7215</th>\n",
       "      <td>Zyvox*</td>\n",
       "      <td>Linezolid</td>\n",
       "      <td>Pharmaci/Pfizer*</td>\n",
       "      <td>$5,258,743.73</td>\n",
       "      <td>2,160,704</td>\n",
       "      <td>2,363</td>\n",
       "      <td></td>\n",
       "      <td>$99.85</td>\n",
       "      <td>$2,225.45</td>\n",
       "      <td></td>\n",
       "    </tr>\n",
       "  </tbody>\n",
       "</table>\n",
       "<p>7216 rows × 10 columns</p>\n",
       "</div>"
      ],
      "text/plain": [
       "                          Brand Name                    Generic Name  \\\n",
       "0           1st Tier Unifine Pentips            Pen Needle, Diabetic   \n",
       "1      1st Tier Unifine Pentips Plus            Pen Needle, Diabetic   \n",
       "2                           Abacavir                Abacavir Sulfate   \n",
       "3                           Abacavir                Abacavir Sulfate   \n",
       "4                           Abacavir                Abacavir Sulfate   \n",
       "5                           Abacavir                Abacavir Sulfate   \n",
       "6                Abacavir-Lamivudine     Abacavir Sulfate/Lamivudine   \n",
       "7                Abacavir-Lamivudine     Abacavir Sulfate/Lamivudine   \n",
       "8     Abacavir-Lamivudine-Zidovudine  Abacavir/Lamivudine/Zidovudine   \n",
       "9                            Abelcet    Amphotericin B Lipid Complex   \n",
       "10                           Abilify                    Aripiprazole   \n",
       "11                  Abilify Maintena                    Aripiprazole   \n",
       "12                          Abraxane        Paclitaxel Protein-Bound   \n",
       "13                          Absorica                    Isotretinoin   \n",
       "14               Acamprosate Calcium             Acamprosate Calcium   \n",
       "15               Acamprosate Calcium             Acamprosate Calcium   \n",
       "16               Acamprosate Calcium             Acamprosate Calcium   \n",
       "17               Acamprosate Calcium             Acamprosate Calcium   \n",
       "18                            Acanya  Clindamycin Phos/Benzoyl Perox   \n",
       "19                          Acarbose                        Acarbose   \n",
       "20                          Acarbose                        Acarbose   \n",
       "21                          Acarbose                        Acarbose   \n",
       "22                          Acarbose                        Acarbose   \n",
       "23                          Acarbose                        Acarbose   \n",
       "24                          Acarbose                        Acarbose   \n",
       "25                          Acarbose                        Acarbose   \n",
       "26                          Acarbose                        Acarbose   \n",
       "27                          Acarbose                        Acarbose   \n",
       "28                          Accolate                     Zafirlukast   \n",
       "29                          Accupril                   Quinapril HCl   \n",
       "...                              ...                             ...   \n",
       "7186                      Zonisamide                      Zonisamide   \n",
       "7187                      Zonisamide                      Zonisamide   \n",
       "7188                       Zontivity               Vorapaxar Sulfate   \n",
       "7189                        Zortress                      Everolimus   \n",
       "7190                        Zorvolex        Diclofenac Submicronized   \n",
       "7191                        Zostavax          Zoster Vaccine Live/PF   \n",
       "7192                           Zosyn  Piperacillin Sodium/Tazobactam   \n",
       "7193                           Zosyn  Piperacillin-Tazo-Dextrose,Iso   \n",
       "7194                     Zovia 1-35e  Ethynodiol D-Ethinyl Estradiol   \n",
       "7195                     Zovia 1-35e  Ethynodiol D-Ethinyl Estradiol   \n",
       "7196                     Zovia 1-50e  Ethynodiol D-Ethinyl Estradiol   \n",
       "7197                        Zovirax*                       Acyclovir   \n",
       "7198                        Zovirax*                       Acyclovir   \n",
       "7199                         Zubsolv  Buprenorphine HCl/Naloxone HCl   \n",
       "7200                         Zuplenz                     Ondansetron   \n",
       "7201                           Zyban                   Bupropion HCl   \n",
       "7202                         Zyclara                       Imiquimod   \n",
       "7203                         Zydelig                      Idelalisib   \n",
       "7204                           Zyflo                        Zileuton   \n",
       "7205                        Zyflo Cr                        Zileuton   \n",
       "7206                         Zykadia                       Ceritinib   \n",
       "7207                           Zylet        Tobramycin/Lotepred Etab   \n",
       "7208                        Zyloprim                     Allopurinol   \n",
       "7209                         Zymaxid                    Gatifloxacin   \n",
       "7210                Zyprexa Relprevv              Olanzapine Pamoate   \n",
       "7211                   Zyprexa Zydis                      Olanzapine   \n",
       "7212                        Zyprexa*                      Olanzapine   \n",
       "7213                          Zytiga             Abiraterone Acetate   \n",
       "7214                          Zyvox*                       Linezolid   \n",
       "7215                          Zyvox*                       Linezolid   \n",
       "\n",
       "          Manufacturer   Total Spending Total Dosage Units Total \\nClaims  \\\n",
       "0      Owen Mumford Us      $215,930.43          1,050,323          8,897   \n",
       "1      Owen Mumford Us      $378,001.19          1,750,607         14,611   \n",
       "2          Apotex Corp    $2,491,345.83            533,661          8,449   \n",
       "3      Aurobindo Pharm    $7,154,093.03          1,558,949         25,385   \n",
       "4      Camber Pharmace    $6,766,490.99          1,547,860         23,189   \n",
       "5                Mylan    $2,925,844.14            613,193          9,503   \n",
       "6          Prasco Labs    $6,765,112.20            199,418          6,430   \n",
       "7             Teva USA    $7,990,669.89            240,422          7,476   \n",
       "8      Lupin Pharmaceu   $12,787,721.57            608,455          9,768   \n",
       "9      Sigma-Tau/Leadi      $752,938.84             85,650            476   \n",
       "10      Otsuka America   $91,965,210.13          2,917,398         96,886   \n",
       "11      Otsuka America  $201,856,628.39            117,247        116,230   \n",
       "12             Celgene    $5,472,304.71              4,766            890   \n",
       "13     Ranbaxy/Sun Pha      $124,497.92              3,960             89   \n",
       "14     Glenmark Pharma    $3,105,826.66          3,302,434         20,624   \n",
       "15               Mylan      $939,318.53          1,058,141          6,855   \n",
       "16     Mylan Instituti       $55,190.79             58,486            414   \n",
       "17            Teva USA      $535,556.85            545,121          3,136   \n",
       "18             Valeant      $293,488.75             33,180            630   \n",
       "19     Actavis Pharma/    $1,032,584.73          2,791,113         20,614   \n",
       "20         Alvogen Inc    $1,317,934.32          3,015,623         23,232   \n",
       "21        Global Pharm       $60,075.13            115,570          1,002   \n",
       "22        Global/Impax      $115,165.44            244,849          1,892   \n",
       "23     Heritage Pharma      $184,686.92            448,912          4,433   \n",
       "24               Mylan      $455,694.83          1,118,664          8,878   \n",
       "25     Roxane/West-War    $2,117,200.42          5,179,156         48,311   \n",
       "26      Strides Pharma    $1,412,045.24          3,606,788         28,882   \n",
       "27     Virtus Pharmace    $3,410,264.50          8,940,493         64,806   \n",
       "28     Par Pharmaceuti      $149,572.78             41,218            426   \n",
       "29     Pfizer US Pharm    $2,129,447.52            628,104          8,133   \n",
       "...                ...              ...                ...            ...   \n",
       "7186   Mylan Instituti       $42,662.00            139,926          1,356   \n",
       "7187   Sun Pharmaceuti      $794,433.94          3,425,504         32,032   \n",
       "7188   Merck Sharp & D    $2,469,449.11            257,727          6,620   \n",
       "7189          Novartis   $10,889,516.91            681,893          4,652   \n",
       "7190   Iroko Pharmaceu    $3,212,296.21          1,002,478         12,628   \n",
       "7191   Merck Sharp & D  $180,548,938.77            834,299        835,358   \n",
       "7192      Wyeth/Pfizer       $25,051.52             29,639             98   \n",
       "7193      Wyeth/Pfizer    $1,814,122.74          4,026,912          6,794   \n",
       "7194   Actavis/Mayne P       $58,596.25             85,955          2,027   \n",
       "7195   Mayne Pharma In       $15,842.17             23,184            514   \n",
       "7196   Actavis Pharma/       $51,627.19             63,616          1,545   \n",
       "7197    Prestium/Mylan      $150,954.29             17,006            212   \n",
       "7198           Valeant   $20,412,043.15            181,610         23,430   \n",
       "7199    Orexo US, Inc.    $2,931,730.72            386,067          8,974   \n",
       "7200   Galena Biopharm      $252,690.05              9,196            251   \n",
       "7201   Glaxosmithkline       $32,886.28              8,324            128   \n",
       "7202           Valeant    $2,662,781.82             29,260          2,442   \n",
       "7203   Gilead Sciences   $60,592,158.27            396,324          6,781   \n",
       "7204   Chiesi USA, Inc    $3,943,674.77            149,901          1,223   \n",
       "7205   Chiesi USA, Inc   $18,156,159.96            695,961          4,856   \n",
       "7206          Novartis   $19,128,191.16            199,473          1,774   \n",
       "7207           Valeant    $4,145,074.71            104,254         17,972   \n",
       "7208    Prometh/Casper      $199,480.71             71,801          1,105   \n",
       "7209     Allergan Inc.    $2,359,744.54             85,958         23,410   \n",
       "7210   Eli Lilly & Co.    $6,792,150.56              6,841          5,983   \n",
       "7211   Eli Lilly & Co.    $4,441,492.23            171,442          3,962   \n",
       "7212  Eli Lilly & Co.*   $22,329,392.09          1,029,470         24,619   \n",
       "7213   Janssen Biotech  $823,103,701.99         11,514,185         96,768   \n",
       "7214   Phar-Prep/Pfize      $137,422.66            527,100            139   \n",
       "7215  Pharmaci/Pfizer*    $5,258,743.73          2,160,704          2,363   \n",
       "\n",
       "     Total Beneficiaries Average Spending Per Dosage Unit (Weighted)  \\\n",
       "0                  3,423                                       $0.21   \n",
       "1                  6,456                                       $0.22   \n",
       "2                  2,320                                       $4.67   \n",
       "3                  4,602                                       $4.59   \n",
       "4                  4,580                                       $4.37   \n",
       "5                  2,855                                       $4.77   \n",
       "6                                                             $33.92   \n",
       "7                                                             $33.24   \n",
       "8                  1,333                                      $21.02   \n",
       "9                                                              $8.79   \n",
       "10                39,246                                      $31.50   \n",
       "11                17,158                                   $1,721.52   \n",
       "12                   247                                   $1,148.29   \n",
       "13                    49                                      $31.44   \n",
       "14                 7,150                                       $0.94   \n",
       "15                 3,101                                       $0.89   \n",
       "16                   198                                       $0.94   \n",
       "17                                                             $0.98   \n",
       "18                   354                                       $8.85   \n",
       "19                                                             $0.37   \n",
       "20                 7,137                                       $0.44   \n",
       "21                 1,334                                       $0.52   \n",
       "22                                                             $0.47   \n",
       "23                 2,470                                       $0.41   \n",
       "24                 4,211                                       $0.41   \n",
       "25                14,438                                       $0.41   \n",
       "26                 9,124                                       $0.39   \n",
       "27                16,989                                       $0.38   \n",
       "28                   259                                       $3.63   \n",
       "29                 1,742                                       $3.39   \n",
       "...                  ...                                         ...   \n",
       "7186                 216                                       $0.30   \n",
       "7187               9,097                                       $0.23   \n",
       "7188               1,486                                       $9.58   \n",
       "7189                 775                                      $16.29   \n",
       "7190               4,179                                       $3.20   \n",
       "7191             833,957                                     $216.41   \n",
       "7192                                                           $0.85   \n",
       "7193                                                           $0.47   \n",
       "7194                                                           $0.68   \n",
       "7195                                                           $0.68   \n",
       "7196                                                           $0.81   \n",
       "7197                  98                                       $8.88   \n",
       "7198              15,692                                     $129.29   \n",
       "7199               1,521                                       $7.67   \n",
       "7200                                                          $27.52   \n",
       "7201                  61                                       $3.95   \n",
       "7202               1,857                                     $117.20   \n",
       "7203               1,377                                     $152.89   \n",
       "7204                 264                                      $26.31   \n",
       "7205                 865                                      $26.09   \n",
       "7206                 323                                      $95.89   \n",
       "7207              12,979                                      $39.76   \n",
       "7208                                                           $3.02   \n",
       "7209              17,364                                      $27.45   \n",
       "7210                 548                                   $1,001.48   \n",
       "7211                 563                                      $26.33   \n",
       "7212               3,393                                      $22.49   \n",
       "7213              16,249                                      $71.49   \n",
       "7214                                                           $0.26   \n",
       "7215                                                          $99.85   \n",
       "\n",
       "     Average Spending Per Claim Average Spending Per Beneficiary  \n",
       "0                        $24.27                           $63.08  \n",
       "1                        $25.87                           $58.55  \n",
       "2                       $294.87                        $1,073.86  \n",
       "3                       $281.82                        $1,554.56  \n",
       "4                       $291.80                        $1,477.40  \n",
       "5                       $307.89                        $1,024.81  \n",
       "6                     $1,052.12                                   \n",
       "7                     $1,068.84                                   \n",
       "8                     $1,309.14                        $9,593.19  \n",
       "9                     $1,581.80                                   \n",
       "10                      $949.21                        $2,343.30  \n",
       "11                    $1,736.70                       $11,764.58  \n",
       "12                    $6,148.66                       $22,155.08  \n",
       "13                    $1,398.85                        $2,540.77  \n",
       "14                      $150.59                          $434.38  \n",
       "15                      $137.03                          $302.91  \n",
       "16                      $133.31                          $278.74  \n",
       "17                      $170.78                                   \n",
       "18                      $465.86                          $829.06  \n",
       "19                       $50.09                                   \n",
       "20                       $56.73                          $184.66  \n",
       "21                       $59.96                           $45.03  \n",
       "22                       $60.87                                   \n",
       "23                       $41.66                           $74.77  \n",
       "24                       $51.33                          $108.22  \n",
       "25                       $43.82                          $146.64  \n",
       "26                       $48.89                          $154.76  \n",
       "27                       $52.62                          $200.73  \n",
       "28                      $351.11                          $577.50  \n",
       "29                      $261.83                        $1,222.42  \n",
       "...                         ...                              ...  \n",
       "7186                     $31.46                          $197.51  \n",
       "7187                     $24.80                           $87.33  \n",
       "7188                    $373.03                        $1,661.81  \n",
       "7189                  $2,340.82                       $14,050.99  \n",
       "7190                    $254.38                          $768.68  \n",
       "7191                    $216.13                          $216.50  \n",
       "7192                    $255.63                                   \n",
       "7193                    $267.02                                   \n",
       "7194                     $28.91                                   \n",
       "7195                     $30.82                                   \n",
       "7196                     $33.42                                   \n",
       "7197                    $712.05                        $1,540.35  \n",
       "7198                    $871.19                        $1,300.79  \n",
       "7199                    $326.69                        $1,927.50  \n",
       "7200                  $1,006.73                                   \n",
       "7201                    $256.92                          $539.12  \n",
       "7202                  $1,090.41                        $1,433.92  \n",
       "7203                  $8,935.58                       $44,003.02  \n",
       "7204                  $3,224.59                       $14,938.16  \n",
       "7205                  $3,738.91                       $20,989.78  \n",
       "7206                 $10,782.52                       $59,220.41  \n",
       "7207                    $230.64                          $319.37  \n",
       "7208                    $180.53                                   \n",
       "7209                    $100.80                          $135.90  \n",
       "7210                  $1,135.24                       $12,394.44  \n",
       "7211                  $1,121.02                        $7,888.97  \n",
       "7212                    $907.00                        $6,581.02  \n",
       "7213                  $8,505.95                       $50,655.65  \n",
       "7214                    $988.65                                   \n",
       "7215                  $2,225.45                                   \n",
       "\n",
       "[7216 rows x 10 columns]"
      ]
     },
     "execution_count": 2,
     "metadata": {},
     "output_type": "execute_result"
    }
   ],
   "source": [
    "medicare_drug_spending_man = pd.read_csv('spending_manufacturer_summary_2016.csv')\n",
    "medicare_drug_spending_man\n"
   ]
  },
  {
   "cell_type": "code",
   "execution_count": 3,
   "metadata": {
    "ExecuteTime": {
     "end_time": "2019-05-01T18:30:47.693544Z",
     "start_time": "2019-05-01T18:30:47.335805Z"
    }
   },
   "outputs": [],
   "source": [
    "file = \"/Volumes/Samsung_T5/Misc/out_open_payments.csv\"\n",
    "open_payments = dd.read_csv(file,\n",
    "                            dtype={'Associated_Drug_or_Biological_NDC_4': 'object',\n",
    "       'Covered_or_Noncovered_Indicator_4': 'object',\n",
    "       'Covered_or_Noncovered_Indicator_5': 'object',\n",
    "       'Indicate_Drug_or_Biological_or_Device_or_Medical_Supply_4': 'object',\n",
    "       'Indicate_Drug_or_Biological_or_Device_or_Medical_Supply_5': 'object',\n",
    "       'Name_of_Drug_or_Biological_or_Device_or_Medical_Supply_4': 'object',\n",
    "       'Name_of_Drug_or_Biological_or_Device_or_Medical_Supply_5': 'object',\n",
    "       'Product_Category_or_Therapeutic_Area_4': 'object',\n",
    "       'Product_Category_or_Therapeutic_Area_5': 'object',\n",
    "       'Recipient_Postal_Code': 'object',\n",
    "       'Recipient_Province': 'object'},\n",
    "                           low_memory=False)"
   ]
  },
  {
   "cell_type": "code",
   "execution_count": 4,
   "metadata": {
    "ExecuteTime": {
     "end_time": "2019-05-01T18:30:49.826498Z",
     "start_time": "2019-05-01T18:30:47.696112Z"
    }
   },
   "outputs": [
    {
     "data": {
      "text/html": [
       "<div>\n",
       "<style scoped>\n",
       "    .dataframe tbody tr th:only-of-type {\n",
       "        vertical-align: middle;\n",
       "    }\n",
       "\n",
       "    .dataframe tbody tr th {\n",
       "        vertical-align: top;\n",
       "    }\n",
       "\n",
       "    .dataframe thead th {\n",
       "        text-align: right;\n",
       "    }\n",
       "</style>\n",
       "<table border=\"1\" class=\"dataframe\">\n",
       "  <thead>\n",
       "    <tr style=\"text-align: right;\">\n",
       "      <th></th>\n",
       "      <th>Physician_Profile_ID</th>\n",
       "      <th>Name</th>\n",
       "      <th>Teaching_Hospital_CCN</th>\n",
       "      <th>Teaching_Hospital_ID</th>\n",
       "      <th>Teaching_Hospital_Name</th>\n",
       "      <th>Recipient_City</th>\n",
       "      <th>Recipient_State</th>\n",
       "      <th>Recipient_Zip_Code</th>\n",
       "      <th>Recipient_Country</th>\n",
       "      <th>Recipient_Province</th>\n",
       "      <th>...</th>\n",
       "      <th>Associated_Drug_or_Biological_NDC_3</th>\n",
       "      <th>Covered_or_Noncovered_Indicator_4</th>\n",
       "      <th>Indicate_Drug_or_Biological_or_Device_or_Medical_Supply_4</th>\n",
       "      <th>Product_Category_or_Therapeutic_Area_4</th>\n",
       "      <th>Name_of_Drug_or_Biological_or_Device_or_Medical_Supply_4</th>\n",
       "      <th>Associated_Drug_or_Biological_NDC_4</th>\n",
       "      <th>Covered_or_Noncovered_Indicator_5</th>\n",
       "      <th>Indicate_Drug_or_Biological_or_Device_or_Medical_Supply_5</th>\n",
       "      <th>Product_Category_or_Therapeutic_Area_5</th>\n",
       "      <th>Name_of_Drug_or_Biological_or_Device_or_Medical_Supply_5</th>\n",
       "    </tr>\n",
       "  </thead>\n",
       "  <tbody>\n",
       "    <tr>\n",
       "      <th>0</th>\n",
       "      <td>1261770.0</td>\n",
       "      <td>Donald Delisi</td>\n",
       "      <td>NaN</td>\n",
       "      <td>NaN</td>\n",
       "      <td>NaN</td>\n",
       "      <td>Bend</td>\n",
       "      <td>OR</td>\n",
       "      <td>97702</td>\n",
       "      <td>United States</td>\n",
       "      <td>NaN</td>\n",
       "      <td>...</td>\n",
       "      <td>NaN</td>\n",
       "      <td>NaN</td>\n",
       "      <td>NaN</td>\n",
       "      <td>NaN</td>\n",
       "      <td>NaN</td>\n",
       "      <td>NaN</td>\n",
       "      <td>NaN</td>\n",
       "      <td>NaN</td>\n",
       "      <td>NaN</td>\n",
       "      <td>NaN</td>\n",
       "    </tr>\n",
       "    <tr>\n",
       "      <th>1</th>\n",
       "      <td>436996.0</td>\n",
       "      <td>Todd Schock</td>\n",
       "      <td>NaN</td>\n",
       "      <td>NaN</td>\n",
       "      <td>NaN</td>\n",
       "      <td>Bend</td>\n",
       "      <td>OR</td>\n",
       "      <td>97702</td>\n",
       "      <td>United States</td>\n",
       "      <td>NaN</td>\n",
       "      <td>...</td>\n",
       "      <td>NaN</td>\n",
       "      <td>NaN</td>\n",
       "      <td>NaN</td>\n",
       "      <td>NaN</td>\n",
       "      <td>NaN</td>\n",
       "      <td>NaN</td>\n",
       "      <td>NaN</td>\n",
       "      <td>NaN</td>\n",
       "      <td>NaN</td>\n",
       "      <td>NaN</td>\n",
       "    </tr>\n",
       "    <tr>\n",
       "      <th>2</th>\n",
       "      <td>640211.0</td>\n",
       "      <td>Keith Krueger</td>\n",
       "      <td>NaN</td>\n",
       "      <td>NaN</td>\n",
       "      <td>NaN</td>\n",
       "      <td>Bend</td>\n",
       "      <td>OR</td>\n",
       "      <td>97702</td>\n",
       "      <td>United States</td>\n",
       "      <td>NaN</td>\n",
       "      <td>...</td>\n",
       "      <td>NaN</td>\n",
       "      <td>NaN</td>\n",
       "      <td>NaN</td>\n",
       "      <td>NaN</td>\n",
       "      <td>NaN</td>\n",
       "      <td>NaN</td>\n",
       "      <td>NaN</td>\n",
       "      <td>NaN</td>\n",
       "      <td>NaN</td>\n",
       "      <td>NaN</td>\n",
       "    </tr>\n",
       "    <tr>\n",
       "      <th>3</th>\n",
       "      <td>389063.0</td>\n",
       "      <td>Arthur Pancioli</td>\n",
       "      <td>NaN</td>\n",
       "      <td>NaN</td>\n",
       "      <td>NaN</td>\n",
       "      <td>Cincinnati</td>\n",
       "      <td>OH</td>\n",
       "      <td>45243</td>\n",
       "      <td>United States</td>\n",
       "      <td>NaN</td>\n",
       "      <td>...</td>\n",
       "      <td>NaN</td>\n",
       "      <td>NaN</td>\n",
       "      <td>NaN</td>\n",
       "      <td>NaN</td>\n",
       "      <td>NaN</td>\n",
       "      <td>NaN</td>\n",
       "      <td>NaN</td>\n",
       "      <td>NaN</td>\n",
       "      <td>NaN</td>\n",
       "      <td>NaN</td>\n",
       "    </tr>\n",
       "    <tr>\n",
       "      <th>4</th>\n",
       "      <td>389063.0</td>\n",
       "      <td>Arthur Pancioli</td>\n",
       "      <td>NaN</td>\n",
       "      <td>NaN</td>\n",
       "      <td>NaN</td>\n",
       "      <td>Cincinnati</td>\n",
       "      <td>OH</td>\n",
       "      <td>45243</td>\n",
       "      <td>United States</td>\n",
       "      <td>NaN</td>\n",
       "      <td>...</td>\n",
       "      <td>NaN</td>\n",
       "      <td>NaN</td>\n",
       "      <td>NaN</td>\n",
       "      <td>NaN</td>\n",
       "      <td>NaN</td>\n",
       "      <td>NaN</td>\n",
       "      <td>NaN</td>\n",
       "      <td>NaN</td>\n",
       "      <td>NaN</td>\n",
       "      <td>NaN</td>\n",
       "    </tr>\n",
       "    <tr>\n",
       "      <th>5</th>\n",
       "      <td>389063.0</td>\n",
       "      <td>Arthur Pancioli</td>\n",
       "      <td>NaN</td>\n",
       "      <td>NaN</td>\n",
       "      <td>NaN</td>\n",
       "      <td>Cincinnati</td>\n",
       "      <td>OH</td>\n",
       "      <td>45243</td>\n",
       "      <td>United States</td>\n",
       "      <td>NaN</td>\n",
       "      <td>...</td>\n",
       "      <td>NaN</td>\n",
       "      <td>NaN</td>\n",
       "      <td>NaN</td>\n",
       "      <td>NaN</td>\n",
       "      <td>NaN</td>\n",
       "      <td>NaN</td>\n",
       "      <td>NaN</td>\n",
       "      <td>NaN</td>\n",
       "      <td>NaN</td>\n",
       "      <td>NaN</td>\n",
       "    </tr>\n",
       "    <tr>\n",
       "      <th>6</th>\n",
       "      <td>74635.0</td>\n",
       "      <td>JOHN FORDTRAN</td>\n",
       "      <td>NaN</td>\n",
       "      <td>NaN</td>\n",
       "      <td>NaN</td>\n",
       "      <td>DALLAS</td>\n",
       "      <td>TX</td>\n",
       "      <td>75246-2017</td>\n",
       "      <td>United States</td>\n",
       "      <td>NaN</td>\n",
       "      <td>...</td>\n",
       "      <td>10572-302-01</td>\n",
       "      <td>NaN</td>\n",
       "      <td>NaN</td>\n",
       "      <td>NaN</td>\n",
       "      <td>NaN</td>\n",
       "      <td>NaN</td>\n",
       "      <td>NaN</td>\n",
       "      <td>NaN</td>\n",
       "      <td>NaN</td>\n",
       "      <td>NaN</td>\n",
       "    </tr>\n",
       "    <tr>\n",
       "      <th>7</th>\n",
       "      <td>74635.0</td>\n",
       "      <td>JOHN FORDTRAN</td>\n",
       "      <td>NaN</td>\n",
       "      <td>NaN</td>\n",
       "      <td>NaN</td>\n",
       "      <td>DALLAS</td>\n",
       "      <td>TX</td>\n",
       "      <td>75246-2017</td>\n",
       "      <td>United States</td>\n",
       "      <td>NaN</td>\n",
       "      <td>...</td>\n",
       "      <td>10572-302-01</td>\n",
       "      <td>NaN</td>\n",
       "      <td>NaN</td>\n",
       "      <td>NaN</td>\n",
       "      <td>NaN</td>\n",
       "      <td>NaN</td>\n",
       "      <td>NaN</td>\n",
       "      <td>NaN</td>\n",
       "      <td>NaN</td>\n",
       "      <td>NaN</td>\n",
       "    </tr>\n",
       "    <tr>\n",
       "      <th>8</th>\n",
       "      <td>74635.0</td>\n",
       "      <td>JOHN FORDTRAN</td>\n",
       "      <td>NaN</td>\n",
       "      <td>NaN</td>\n",
       "      <td>NaN</td>\n",
       "      <td>DALLAS</td>\n",
       "      <td>TX</td>\n",
       "      <td>75246-2017</td>\n",
       "      <td>United States</td>\n",
       "      <td>NaN</td>\n",
       "      <td>...</td>\n",
       "      <td>10572-302-01</td>\n",
       "      <td>NaN</td>\n",
       "      <td>NaN</td>\n",
       "      <td>NaN</td>\n",
       "      <td>NaN</td>\n",
       "      <td>NaN</td>\n",
       "      <td>NaN</td>\n",
       "      <td>NaN</td>\n",
       "      <td>NaN</td>\n",
       "      <td>NaN</td>\n",
       "    </tr>\n",
       "    <tr>\n",
       "      <th>9</th>\n",
       "      <td>74635.0</td>\n",
       "      <td>JOHN FORDTRAN</td>\n",
       "      <td>NaN</td>\n",
       "      <td>NaN</td>\n",
       "      <td>NaN</td>\n",
       "      <td>DALLAS</td>\n",
       "      <td>TX</td>\n",
       "      <td>75246-2017</td>\n",
       "      <td>United States</td>\n",
       "      <td>NaN</td>\n",
       "      <td>...</td>\n",
       "      <td>10572-302-01</td>\n",
       "      <td>NaN</td>\n",
       "      <td>NaN</td>\n",
       "      <td>NaN</td>\n",
       "      <td>NaN</td>\n",
       "      <td>NaN</td>\n",
       "      <td>NaN</td>\n",
       "      <td>NaN</td>\n",
       "      <td>NaN</td>\n",
       "      <td>NaN</td>\n",
       "    </tr>\n",
       "  </tbody>\n",
       "</table>\n",
       "<p>10 rows × 53 columns</p>\n",
       "</div>"
      ],
      "text/plain": [
       "   Physician_Profile_ID             Name  Teaching_Hospital_CCN  \\\n",
       "0             1261770.0    Donald Delisi                    NaN   \n",
       "1              436996.0      Todd Schock                    NaN   \n",
       "2              640211.0    Keith Krueger                    NaN   \n",
       "3              389063.0  Arthur Pancioli                    NaN   \n",
       "4              389063.0  Arthur Pancioli                    NaN   \n",
       "5              389063.0  Arthur Pancioli                    NaN   \n",
       "6               74635.0    JOHN FORDTRAN                    NaN   \n",
       "7               74635.0    JOHN FORDTRAN                    NaN   \n",
       "8               74635.0    JOHN FORDTRAN                    NaN   \n",
       "9               74635.0    JOHN FORDTRAN                    NaN   \n",
       "\n",
       "   Teaching_Hospital_ID Teaching_Hospital_Name Recipient_City Recipient_State  \\\n",
       "0                   NaN                    NaN           Bend              OR   \n",
       "1                   NaN                    NaN           Bend              OR   \n",
       "2                   NaN                    NaN           Bend              OR   \n",
       "3                   NaN                    NaN     Cincinnati              OH   \n",
       "4                   NaN                    NaN     Cincinnati              OH   \n",
       "5                   NaN                    NaN     Cincinnati              OH   \n",
       "6                   NaN                    NaN         DALLAS              TX   \n",
       "7                   NaN                    NaN         DALLAS              TX   \n",
       "8                   NaN                    NaN         DALLAS              TX   \n",
       "9                   NaN                    NaN         DALLAS              TX   \n",
       "\n",
       "  Recipient_Zip_Code Recipient_Country Recipient_Province  ...  \\\n",
       "0              97702     United States                NaN  ...   \n",
       "1              97702     United States                NaN  ...   \n",
       "2              97702     United States                NaN  ...   \n",
       "3              45243     United States                NaN  ...   \n",
       "4              45243     United States                NaN  ...   \n",
       "5              45243     United States                NaN  ...   \n",
       "6         75246-2017     United States                NaN  ...   \n",
       "7         75246-2017     United States                NaN  ...   \n",
       "8         75246-2017     United States                NaN  ...   \n",
       "9         75246-2017     United States                NaN  ...   \n",
       "\n",
       "  Associated_Drug_or_Biological_NDC_3 Covered_or_Noncovered_Indicator_4  \\\n",
       "0                                 NaN                               NaN   \n",
       "1                                 NaN                               NaN   \n",
       "2                                 NaN                               NaN   \n",
       "3                                 NaN                               NaN   \n",
       "4                                 NaN                               NaN   \n",
       "5                                 NaN                               NaN   \n",
       "6                        10572-302-01                               NaN   \n",
       "7                        10572-302-01                               NaN   \n",
       "8                        10572-302-01                               NaN   \n",
       "9                        10572-302-01                               NaN   \n",
       "\n",
       "  Indicate_Drug_or_Biological_or_Device_or_Medical_Supply_4  \\\n",
       "0                                                NaN          \n",
       "1                                                NaN          \n",
       "2                                                NaN          \n",
       "3                                                NaN          \n",
       "4                                                NaN          \n",
       "5                                                NaN          \n",
       "6                                                NaN          \n",
       "7                                                NaN          \n",
       "8                                                NaN          \n",
       "9                                                NaN          \n",
       "\n",
       "  Product_Category_or_Therapeutic_Area_4  \\\n",
       "0                                    NaN   \n",
       "1                                    NaN   \n",
       "2                                    NaN   \n",
       "3                                    NaN   \n",
       "4                                    NaN   \n",
       "5                                    NaN   \n",
       "6                                    NaN   \n",
       "7                                    NaN   \n",
       "8                                    NaN   \n",
       "9                                    NaN   \n",
       "\n",
       "   Name_of_Drug_or_Biological_or_Device_or_Medical_Supply_4  \\\n",
       "0                                                NaN          \n",
       "1                                                NaN          \n",
       "2                                                NaN          \n",
       "3                                                NaN          \n",
       "4                                                NaN          \n",
       "5                                                NaN          \n",
       "6                                                NaN          \n",
       "7                                                NaN          \n",
       "8                                                NaN          \n",
       "9                                                NaN          \n",
       "\n",
       "  Associated_Drug_or_Biological_NDC_4 Covered_or_Noncovered_Indicator_5  \\\n",
       "0                                 NaN                               NaN   \n",
       "1                                 NaN                               NaN   \n",
       "2                                 NaN                               NaN   \n",
       "3                                 NaN                               NaN   \n",
       "4                                 NaN                               NaN   \n",
       "5                                 NaN                               NaN   \n",
       "6                                 NaN                               NaN   \n",
       "7                                 NaN                               NaN   \n",
       "8                                 NaN                               NaN   \n",
       "9                                 NaN                               NaN   \n",
       "\n",
       "  Indicate_Drug_or_Biological_or_Device_or_Medical_Supply_5  \\\n",
       "0                                                NaN          \n",
       "1                                                NaN          \n",
       "2                                                NaN          \n",
       "3                                                NaN          \n",
       "4                                                NaN          \n",
       "5                                                NaN          \n",
       "6                                                NaN          \n",
       "7                                                NaN          \n",
       "8                                                NaN          \n",
       "9                                                NaN          \n",
       "\n",
       "   Product_Category_or_Therapeutic_Area_5  \\\n",
       "0                                     NaN   \n",
       "1                                     NaN   \n",
       "2                                     NaN   \n",
       "3                                     NaN   \n",
       "4                                     NaN   \n",
       "5                                     NaN   \n",
       "6                                     NaN   \n",
       "7                                     NaN   \n",
       "8                                     NaN   \n",
       "9                                     NaN   \n",
       "\n",
       "  Name_of_Drug_or_Biological_or_Device_or_Medical_Supply_5  \n",
       "0                                                NaN        \n",
       "1                                                NaN        \n",
       "2                                                NaN        \n",
       "3                                                NaN        \n",
       "4                                                NaN        \n",
       "5                                                NaN        \n",
       "6                                                NaN        \n",
       "7                                                NaN        \n",
       "8                                                NaN        \n",
       "9                                                NaN        \n",
       "\n",
       "[10 rows x 53 columns]"
      ]
     },
     "execution_count": 4,
     "metadata": {},
     "output_type": "execute_result"
    }
   ],
   "source": [
    "open_payments.head(10)"
   ]
  },
  {
   "cell_type": "code",
   "execution_count": 5,
   "metadata": {
    "ExecuteTime": {
     "end_time": "2019-05-01T18:30:49.837292Z",
     "start_time": "2019-05-01T18:30:49.829553Z"
    }
   },
   "outputs": [
    {
     "data": {
      "text/plain": [
       "Index(['Physician_Profile_ID', 'Name', 'Teaching_Hospital_CCN',\n",
       "       'Teaching_Hospital_ID', 'Teaching_Hospital_Name', 'Recipient_City',\n",
       "       'Recipient_State', 'Recipient_Zip_Code', 'Recipient_Country',\n",
       "       'Recipient_Province', 'Recipient_Postal_Code', 'Physician_Primary_Type',\n",
       "       'Physician_Specialty',\n",
       "       'Submitting_Applicable_Manufacturer_or_Applicable_GPO_Name',\n",
       "       'Applicable_Manufacturer_or_Applicable_GPO_Making_Payment_ID',\n",
       "       'Applicable_Manufacturer_or_Applicable_GPO_Making_Payment_Name',\n",
       "       'Applicable_Manufacturer_or_Applicable_GPO_Making_Payment_State',\n",
       "       'Applicable_Manufacturer_or_Applicable_GPO_Making_Payment_Country',\n",
       "       'Total_Amount_of_Payment_USDollars', 'Date_of_Payment',\n",
       "       'Number_of_Payments_Included_in_Total_Amount',\n",
       "       'Form_of_Payment_or_Transfer_of_Value',\n",
       "       'Nature_of_Payment_or_Transfer_of_Value',\n",
       "       'Physician_Ownership_Indicator',\n",
       "       'Third_Party_Payment_Recipient_Indicator',\n",
       "       'Name_of_Third_Party_Entity_Receiving_Payment_or_Transfer_of_Value',\n",
       "       'Charity_Indicator', 'Contextual_Information',\n",
       "       'Dispute_Status_for_Publication', 'Covered_or_Noncovered_Indicator_1',\n",
       "       'Indicate_Drug_or_Biological_or_Device_or_Medical_Supply_1',\n",
       "       'Product_Category_or_Therapeutic_Area_1',\n",
       "       'Name_of_Drug_or_Biological_or_Device_or_Medical_Supply_1',\n",
       "       'Associated_Drug_or_Biological_NDC_1',\n",
       "       'Covered_or_Noncovered_Indicator_2',\n",
       "       'Indicate_Drug_or_Biological_or_Device_or_Medical_Supply_2',\n",
       "       'Product_Category_or_Therapeutic_Area_2',\n",
       "       'Name_of_Drug_or_Biological_or_Device_or_Medical_Supply_2',\n",
       "       'Associated_Drug_or_Biological_NDC_2',\n",
       "       'Covered_or_Noncovered_Indicator_3',\n",
       "       'Indicate_Drug_or_Biological_or_Device_or_Medical_Supply_3',\n",
       "       'Product_Category_or_Therapeutic_Area_3',\n",
       "       'Name_of_Drug_or_Biological_or_Device_or_Medical_Supply_3',\n",
       "       'Associated_Drug_or_Biological_NDC_3',\n",
       "       'Covered_or_Noncovered_Indicator_4',\n",
       "       'Indicate_Drug_or_Biological_or_Device_or_Medical_Supply_4',\n",
       "       'Product_Category_or_Therapeutic_Area_4',\n",
       "       'Name_of_Drug_or_Biological_or_Device_or_Medical_Supply_4',\n",
       "       'Associated_Drug_or_Biological_NDC_4',\n",
       "       'Covered_or_Noncovered_Indicator_5',\n",
       "       'Indicate_Drug_or_Biological_or_Device_or_Medical_Supply_5',\n",
       "       'Product_Category_or_Therapeutic_Area_5',\n",
       "       'Name_of_Drug_or_Biological_or_Device_or_Medical_Supply_5'],\n",
       "      dtype='object')"
      ]
     },
     "execution_count": 5,
     "metadata": {},
     "output_type": "execute_result"
    }
   ],
   "source": [
    "open_payments.columns"
   ]
  },
  {
   "cell_type": "code",
   "execution_count": 6,
   "metadata": {
    "ExecuteTime": {
     "end_time": "2019-05-01T18:30:49.912811Z",
     "start_time": "2019-05-01T18:30:49.840491Z"
    }
   },
   "outputs": [],
   "source": [
    "to_remove = ['Covered_or_Noncovered_Indicator_2',\n",
    "       'Indicate_Drug_or_Biological_or_Device_or_Medical_Supply_2',\n",
    "       'Product_Category_or_Therapeutic_Area_2',\n",
    "       'Name_of_Drug_or_Biological_or_Device_or_Medical_Supply_2',\n",
    "       'Associated_Drug_or_Biological_NDC_2',\n",
    "       'Covered_or_Noncovered_Indicator_3',\n",
    "       'Indicate_Drug_or_Biological_or_Device_or_Medical_Supply_3',\n",
    "       'Product_Category_or_Therapeutic_Area_3',\n",
    "       'Name_of_Drug_or_Biological_or_Device_or_Medical_Supply_3',\n",
    "       'Associated_Drug_or_Biological_NDC_3',\n",
    "       'Covered_or_Noncovered_Indicator_4',\n",
    "       'Indicate_Drug_or_Biological_or_Device_or_Medical_Supply_4',\n",
    "       'Product_Category_or_Therapeutic_Area_4',\n",
    "       'Name_of_Drug_or_Biological_or_Device_or_Medical_Supply_4',\n",
    "       'Associated_Drug_or_Biological_NDC_4',\n",
    "       'Covered_or_Noncovered_Indicator_5',\n",
    "       'Indicate_Drug_or_Biological_or_Device_or_Medical_Supply_5',\n",
    "       'Product_Category_or_Therapeutic_Area_5',\n",
    "       'Name_of_Drug_or_Biological_or_Device_or_Medical_Supply_5']\n",
    "\n",
    "df = open_payments.drop(to_remove, axis =1 )"
   ]
  },
  {
   "cell_type": "code",
   "execution_count": 7,
   "metadata": {
    "ExecuteTime": {
     "end_time": "2019-05-01T18:30:49.944334Z",
     "start_time": "2019-05-01T18:30:49.934585Z"
    }
   },
   "outputs": [
    {
     "data": {
      "text/plain": [
       "Index(['Physician_Profile_ID', 'Name', 'Teaching_Hospital_CCN',\n",
       "       'Teaching_Hospital_ID', 'Teaching_Hospital_Name', 'Recipient_City',\n",
       "       'Recipient_State', 'Recipient_Zip_Code', 'Recipient_Country',\n",
       "       'Recipient_Province', 'Recipient_Postal_Code', 'Physician_Primary_Type',\n",
       "       'Physician_Specialty',\n",
       "       'Submitting_Applicable_Manufacturer_or_Applicable_GPO_Name',\n",
       "       'Applicable_Manufacturer_or_Applicable_GPO_Making_Payment_ID',\n",
       "       'Applicable_Manufacturer_or_Applicable_GPO_Making_Payment_Name',\n",
       "       'Applicable_Manufacturer_or_Applicable_GPO_Making_Payment_State',\n",
       "       'Applicable_Manufacturer_or_Applicable_GPO_Making_Payment_Country',\n",
       "       'Total_Amount_of_Payment_USDollars', 'Date_of_Payment',\n",
       "       'Number_of_Payments_Included_in_Total_Amount',\n",
       "       'Form_of_Payment_or_Transfer_of_Value',\n",
       "       'Nature_of_Payment_or_Transfer_of_Value',\n",
       "       'Physician_Ownership_Indicator',\n",
       "       'Third_Party_Payment_Recipient_Indicator',\n",
       "       'Name_of_Third_Party_Entity_Receiving_Payment_or_Transfer_of_Value',\n",
       "       'Charity_Indicator', 'Contextual_Information',\n",
       "       'Dispute_Status_for_Publication', 'Covered_or_Noncovered_Indicator_1',\n",
       "       'Indicate_Drug_or_Biological_or_Device_or_Medical_Supply_1',\n",
       "       'Product_Category_or_Therapeutic_Area_1',\n",
       "       'Name_of_Drug_or_Biological_or_Device_or_Medical_Supply_1',\n",
       "       'Associated_Drug_or_Biological_NDC_1'],\n",
       "      dtype='object')"
      ]
     },
     "execution_count": 7,
     "metadata": {},
     "output_type": "execute_result"
    }
   ],
   "source": [
    "df.columns"
   ]
  },
  {
   "cell_type": "code",
   "execution_count": 8,
   "metadata": {
    "ExecuteTime": {
     "end_time": "2019-05-01T18:30:49.994224Z",
     "start_time": "2019-05-01T18:30:49.948669Z"
    }
   },
   "outputs": [],
   "source": [
    "r = ['Physician_Ownership_Indicator',\n",
    "       'Third_Party_Payment_Recipient_Indicator',\n",
    "       'Name_of_Third_Party_Entity_Receiving_Payment_or_Transfer_of_Value',\n",
    "       'Charity_Indicator', 'Contextual_Information',\n",
    "       'Dispute_Status_for_Publication', 'Covered_or_Noncovered_Indicator_1']\n",
    "df = df.drop(r, axis=1)"
   ]
  },
  {
   "cell_type": "code",
   "execution_count": 9,
   "metadata": {
    "ExecuteTime": {
     "end_time": "2019-05-01T18:30:50.014489Z",
     "start_time": "2019-05-01T18:30:50.007103Z"
    }
   },
   "outputs": [
    {
     "data": {
      "text/plain": [
       "Index(['Physician_Profile_ID', 'Name', 'Teaching_Hospital_CCN',\n",
       "       'Teaching_Hospital_ID', 'Teaching_Hospital_Name', 'Recipient_City',\n",
       "       'Recipient_State', 'Recipient_Zip_Code', 'Recipient_Country',\n",
       "       'Recipient_Province', 'Recipient_Postal_Code', 'Physician_Primary_Type',\n",
       "       'Physician_Specialty',\n",
       "       'Submitting_Applicable_Manufacturer_or_Applicable_GPO_Name',\n",
       "       'Applicable_Manufacturer_or_Applicable_GPO_Making_Payment_ID',\n",
       "       'Applicable_Manufacturer_or_Applicable_GPO_Making_Payment_Name',\n",
       "       'Applicable_Manufacturer_or_Applicable_GPO_Making_Payment_State',\n",
       "       'Applicable_Manufacturer_or_Applicable_GPO_Making_Payment_Country',\n",
       "       'Total_Amount_of_Payment_USDollars', 'Date_of_Payment',\n",
       "       'Number_of_Payments_Included_in_Total_Amount',\n",
       "       'Form_of_Payment_or_Transfer_of_Value',\n",
       "       'Nature_of_Payment_or_Transfer_of_Value',\n",
       "       'Indicate_Drug_or_Biological_or_Device_or_Medical_Supply_1',\n",
       "       'Product_Category_or_Therapeutic_Area_1',\n",
       "       'Name_of_Drug_or_Biological_or_Device_or_Medical_Supply_1',\n",
       "       'Associated_Drug_or_Biological_NDC_1'],\n",
       "      dtype='object')"
      ]
     },
     "execution_count": 9,
     "metadata": {},
     "output_type": "execute_result"
    }
   ],
   "source": [
    "df.columns"
   ]
  },
  {
   "cell_type": "code",
   "execution_count": 10,
   "metadata": {
    "ExecuteTime": {
     "end_time": "2019-05-01T18:30:51.012533Z",
     "start_time": "2019-05-01T18:30:50.018628Z"
    }
   },
   "outputs": [],
   "source": [
    "import dask_ml.cluster"
   ]
  },
  {
   "cell_type": "code",
   "execution_count": null,
   "metadata": {
    "ExecuteTime": {
     "start_time": "2019-05-01T18:30:44.236Z"
    }
   },
   "outputs": [],
   "source": [
    "km = dask_ml.cluster.KMeans(n_clusters=3, init_max_iter=2, oversampling_factor=10)\n",
    "km.fit(df)"
   ]
  },
  {
   "cell_type": "code",
   "execution_count": null,
   "metadata": {
    "ExecuteTime": {
     "start_time": "2019-05-01T18:30:44.242Z"
    }
   },
   "outputs": [],
   "source": [
    "open_payments['Physician_Specialty'].head(1000)"
   ]
  },
  {
   "cell_type": "code",
   "execution_count": null,
   "metadata": {
    "ExecuteTime": {
     "start_time": "2019-05-01T18:30:44.247Z"
    }
   },
   "outputs": [],
   "source": [
    "sns.distplot(open_payments['Total_Amount_of_Payment_USDollars'])"
   ]
  },
  {
   "cell_type": "code",
   "execution_count": null,
   "metadata": {
    "ExecuteTime": {
     "start_time": "2019-05-01T18:30:44.252Z"
    }
   },
   "outputs": [],
   "source": [
    "payments = open_payments.compute()"
   ]
  },
  {
   "cell_type": "code",
   "execution_count": null,
   "metadata": {
    "ExecuteTime": {
     "start_time": "2019-05-01T18:30:44.255Z"
    }
   },
   "outputs": [],
   "source": [
    "# r = 'Recipient_City'\n",
    "# t = 'Total_Amount_of_Payment_USDollars'\n",
    "\n",
    "\n",
    "# sns.catplot(x=r, y=t, data=open_payments)"
   ]
  },
  {
   "cell_type": "code",
   "execution_count": null,
   "metadata": {
    "ExecuteTime": {
     "start_time": "2019-05-01T18:30:44.259Z"
    }
   },
   "outputs": [],
   "source": [
    "# # x = 'Recipient_City'\n",
    "# y = 'Total_Amount_of_Payment_USDollars'\n",
    "\n",
    "\n",
    "# plt.hist(payments[y])\n",
    "\n"
   ]
  },
  {
   "cell_type": "code",
   "execution_count": null,
   "metadata": {
    "ExecuteTime": {
     "start_time": "2019-05-01T18:30:44.263Z"
    }
   },
   "outputs": [],
   "source": [
    "# from sklearn.linear_model import LinearRegression\n",
    "\n",
    "# sns.catplot(x='Physician_Specialty', y='Total_Amount_of_Payment_USDollars', data = payments)"
   ]
  },
  {
   "cell_type": "code",
   "execution_count": null,
   "metadata": {
    "ExecuteTime": {
     "start_time": "2019-05-01T18:30:44.267Z"
    }
   },
   "outputs": [],
   "source": [
    "import statsmodels"
   ]
  },
  {
   "cell_type": "code",
   "execution_count": null,
   "metadata": {},
   "outputs": [],
   "source": []
  },
  {
   "cell_type": "code",
   "execution_count": null,
   "metadata": {
    "ExecuteTime": {
     "start_time": "2019-05-01T18:30:44.280Z"
    }
   },
   "outputs": [],
   "source": [
    "filename = \"/Volumes/Samsung_T5/Misc/PartD_Prescriber_PUF_NPI_Drug_16.txt\"\n",
    "\n",
    "prescriptions = dd.read_csv(filename, sep=\"\\t\")"
   ]
  },
  {
   "cell_type": "code",
   "execution_count": null,
   "metadata": {
    "ExecuteTime": {
     "start_time": "2019-05-01T18:30:44.292Z"
    }
   },
   "outputs": [],
   "source": [
    "columns_dropped_prescriptions = [\"description_flag\", \"bene_count_ge65\", \"bene_count_ge65_suppress_flag\", \n",
    "                                 \"ge65_suppress_flag\", \"total_claim_count_ge65\",\n",
    "                                \"total_30_day_fill_count_ge65\", \"total_day_supply_ge65\", \"total_drug_cost_ge65\"]\n",
    "\n",
    "prescriptions = prescriptions.drop(columns_dropped_prescriptions, axis=1)"
   ]
  },
  {
   "cell_type": "code",
   "execution_count": null,
   "metadata": {
    "ExecuteTime": {
     "start_time": "2019-05-01T18:30:44.300Z"
    }
   },
   "outputs": [],
   "source": [
    "prescriptions.columns"
   ]
  },
  {
   "cell_type": "code",
   "execution_count": null,
   "metadata": {
    "ExecuteTime": {
     "start_time": "2019-05-01T18:30:44.321Z"
    }
   },
   "outputs": [],
   "source": [
    "prescriptions.head(1000)"
   ]
  },
  {
   "cell_type": "code",
   "execution_count": null,
   "metadata": {
    "ExecuteTime": {
     "start_time": "2019-05-01T18:30:44.326Z"
    }
   },
   "outputs": [],
   "source": [
    "prescriptions['name']  = prescriptions['nppes_provider_last_org_name'].str.title() + \" \" + prescriptions['nppes_provider_first_name'].str.title()"
   ]
  },
  {
   "cell_type": "code",
   "execution_count": null,
   "metadata": {
    "ExecuteTime": {
     "start_time": "2019-05-01T18:30:44.331Z"
    }
   },
   "outputs": [],
   "source": [
    "to_remove = ['nppes_provider_last_org_name', 'nppes_provider_first_name']\n",
    "\n",
    "pres = prescriptions.drop(to_remove, axis=1)"
   ]
  },
  {
   "cell_type": "code",
   "execution_count": null,
   "metadata": {
    "ExecuteTime": {
     "start_time": "2019-05-01T18:30:44.338Z"
    }
   },
   "outputs": [],
   "source": [
    "cols =['name'] + [col for col in pres.columns if col != 'name']\n",
    "\n",
    "pres2 = pres[cols]"
   ]
  },
  {
   "cell_type": "code",
   "execution_count": null,
   "metadata": {
    "ExecuteTime": {
     "start_time": "2019-05-01T18:30:44.344Z"
    }
   },
   "outputs": [],
   "source": [
    "pres2.head(5)"
   ]
  },
  {
   "cell_type": "code",
   "execution_count": null,
   "metadata": {
    "ExecuteTime": {
     "start_time": "2019-05-01T18:30:44.349Z"
    }
   },
   "outputs": [],
   "source": [
    "pres3 = pres2.compute()"
   ]
  },
  {
   "cell_type": "code",
   "execution_count": null,
   "metadata": {
    "ExecuteTime": {
     "start_time": "2019-05-01T18:30:44.353Z"
    }
   },
   "outputs": [],
   "source": [
    "orthopaedic = pres3[pres3['specialty_description'] == 'Orthopaedic Surgery']"
   ]
  },
  {
   "cell_type": "code",
   "execution_count": null,
   "metadata": {
    "ExecuteTime": {
     "start_time": "2019-05-01T18:30:44.357Z"
    }
   },
   "outputs": [],
   "source": [
    "pediatrics = pres3[pres3['specialty_description'].str.startswith('Pediatrics')]"
   ]
  },
  {
   "cell_type": "code",
   "execution_count": null,
   "metadata": {
    "ExecuteTime": {
     "start_time": "2019-05-01T18:30:44.361Z"
    }
   },
   "outputs": [],
   "source": [
    "df = pd.DataFrame(orthopaedic.groupby([\"drug_name\", \"generic_name\", \"name\"])['total_claim_count'].sum())"
   ]
  },
  {
   "cell_type": "code",
   "execution_count": null,
   "metadata": {
    "ExecuteTime": {
     "start_time": "2019-05-01T18:30:44.365Z"
    }
   },
   "outputs": [],
   "source": [
    "df['total_claim_count'].sort_values(ascending=False)"
   ]
  },
  {
   "cell_type": "code",
   "execution_count": null,
   "metadata": {
    "ExecuteTime": {
     "start_time": "2019-05-01T18:30:44.371Z"
    }
   },
   "outputs": [],
   "source": [
    "ortho_names = df.index.get_level_values(2) "
   ]
  },
  {
   "cell_type": "code",
   "execution_count": null,
   "metadata": {
    "ExecuteTime": {
     "start_time": "2019-05-01T18:30:44.377Z"
    }
   },
   "outputs": [],
   "source": [
    "len(ortho_names)"
   ]
  },
  {
   "cell_type": "code",
   "execution_count": null,
   "metadata": {},
   "outputs": [],
   "source": []
  },
  {
   "cell_type": "code",
   "execution_count": null,
   "metadata": {
    "ExecuteTime": {
     "start_time": "2019-05-01T18:30:44.382Z"
    }
   },
   "outputs": [],
   "source": [
    "import re"
   ]
  },
  {
   "cell_type": "code",
   "execution_count": null,
   "metadata": {
    "ExecuteTime": {
     "start_time": "2019-05-01T18:30:44.386Z"
    }
   },
   "outputs": [],
   "source": [
    "g = []\n",
    "for x in orthopaedic['generic_name']:\n",
    "    x = re.sub(r'\\/', '-', x)\n",
    "    g.append(x)"
   ]
  },
  {
   "cell_type": "code",
   "execution_count": null,
   "metadata": {
    "ExecuteTime": {
     "start_time": "2019-05-01T18:30:44.389Z"
    }
   },
   "outputs": [],
   "source": [
    "df.index.names"
   ]
  },
  {
   "cell_type": "code",
   "execution_count": null,
   "metadata": {
    "ExecuteTime": {
     "start_time": "2019-05-01T18:30:44.393Z"
    }
   },
   "outputs": [],
   "source": [
    "orthopaedic.shape"
   ]
  },
  {
   "cell_type": "code",
   "execution_count": null,
   "metadata": {
    "ExecuteTime": {
     "start_time": "2019-05-01T18:30:44.397Z"
    }
   },
   "outputs": [],
   "source": [
    "orthopaedic['generic_name'] = g"
   ]
  },
  {
   "cell_type": "code",
   "execution_count": null,
   "metadata": {
    "ExecuteTime": {
     "start_time": "2019-05-01T18:30:44.401Z"
    }
   },
   "outputs": [],
   "source": [
    "orthopaedic['generic_name'] "
   ]
  },
  {
   "cell_type": "code",
   "execution_count": null,
   "metadata": {
    "ExecuteTime": {
     "start_time": "2019-05-01T18:30:44.406Z"
    }
   },
   "outputs": [],
   "source": [
    "generic = []\n",
    "generic_docs = []\n",
    "\n",
    "brand = []\n",
    "brand_docs = []\n",
    "\n",
    "for x, y, z in zip(orthopaedic['generic_name'], orthopaedic['drug_name'], orthopaedic['name']):\n",
    "    if (x == y):\n",
    "        generic_docs.append(z)\n",
    "        generic.append(x)\n",
    "    else:\n",
    "        brand_docs.append(z)\n",
    "        brand.append(y)\n"
   ]
  },
  {
   "cell_type": "code",
   "execution_count": null,
   "metadata": {
    "ExecuteTime": {
     "start_time": "2019-05-01T18:30:44.409Z"
    }
   },
   "outputs": [],
   "source": [
    "ortho_generic = pd.DataFrame()\n",
    "\n",
    "ortho_generic['doctors'] = generic_docs\n",
    "ortho_generic['generic_name'] = generic"
   ]
  },
  {
   "cell_type": "code",
   "execution_count": null,
   "metadata": {
    "ExecuteTime": {
     "start_time": "2019-05-01T18:30:44.413Z"
    }
   },
   "outputs": [],
   "source": [
    "ortho_generic.shape"
   ]
  },
  {
   "cell_type": "code",
   "execution_count": null,
   "metadata": {
    "ExecuteTime": {
     "start_time": "2019-05-01T18:30:44.416Z"
    }
   },
   "outputs": [],
   "source": [
    "ortho_brand = pd.DataFrame()\n",
    "\n",
    "ortho_brand['doctors'] = brand_docs\n",
    "ortho_brand['brand_name'] = brand"
   ]
  },
  {
   "cell_type": "code",
   "execution_count": null,
   "metadata": {
    "ExecuteTime": {
     "start_time": "2019-05-01T18:30:44.422Z"
    }
   },
   "outputs": [],
   "source": [
    "ortho_brand"
   ]
  },
  {
   "cell_type": "code",
   "execution_count": null,
   "metadata": {
    "ExecuteTime": {
     "start_time": "2019-05-01T18:30:44.426Z"
    }
   },
   "outputs": [],
   "source": [
    "ortho_brand.to_csv('ortho_brand.csv', index=False)"
   ]
  },
  {
   "cell_type": "code",
   "execution_count": null,
   "metadata": {
    "ExecuteTime": {
     "start_time": "2019-05-01T18:30:44.430Z"
    }
   },
   "outputs": [],
   "source": [
    "# for row in orthopaedic.itertuples(index=True, name='Series'):\n",
    "#     r = pd.DataFrame(row)\n",
    "#     brand = row[6]\n",
    "#     generic=  row[7]\n",
    "#     if brand == re.sub(r'\\/', '-', generic):\n",
    "#         ortho_generic = ortho_generic.append(r)   \n",
    "#     else:\n",
    "#         pd.concat([ortho_brand, r], axis=0)"
   ]
  },
  {
   "cell_type": "code",
   "execution_count": null,
   "metadata": {
    "ExecuteTime": {
     "start_time": "2019-05-01T18:30:44.433Z"
    }
   },
   "outputs": [],
   "source": [
    "len(generic)"
   ]
  },
  {
   "cell_type": "code",
   "execution_count": null,
   "metadata": {
    "ExecuteTime": {
     "start_time": "2019-05-01T18:30:44.437Z"
    }
   },
   "outputs": [],
   "source": [
    "len(brand)"
   ]
  },
  {
   "cell_type": "markdown",
   "metadata": {},
   "source": [
    "# Networkx"
   ]
  },
  {
   "cell_type": "code",
   "execution_count": null,
   "metadata": {
    "ExecuteTime": {
     "start_time": "2019-05-01T18:30:44.440Z"
    }
   },
   "outputs": [],
   "source": [
    "import networkx as nx"
   ]
  },
  {
   "cell_type": "code",
   "execution_count": null,
   "metadata": {
    "ExecuteTime": {
     "start_time": "2019-05-01T18:30:44.444Z"
    }
   },
   "outputs": [],
   "source": [
    "#list_of_edges = list(pres3['drug_name'])\n",
    "b = list(pres3['drug_name']) \n",
    "a = list(pres3['name'])"
   ]
  },
  {
   "cell_type": "code",
   "execution_count": null,
   "metadata": {
    "ExecuteTime": {
     "start_time": "2019-05-01T18:30:44.449Z"
    }
   },
   "outputs": [],
   "source": [
    "c = []\n",
    "for i, j in zip(a, b):\n",
    "    c.append((i, j))\n",
    "c"
   ]
  },
  {
   "cell_type": "code",
   "execution_count": null,
   "metadata": {
    "ExecuteTime": {
     "start_time": "2019-05-01T18:30:44.453Z"
    }
   },
   "outputs": [],
   "source": [
    "list_of_edges = c"
   ]
  },
  {
   "cell_type": "code",
   "execution_count": null,
   "metadata": {
    "ExecuteTime": {
     "start_time": "2019-05-01T18:30:44.457Z"
    }
   },
   "outputs": [],
   "source": [
    "G = nx.Graph()\n",
    "\n",
    "G.add_nodes_from(a)\n",
    "G.add_nodes_from(b)"
   ]
  },
  {
   "cell_type": "code",
   "execution_count": null,
   "metadata": {
    "ExecuteTime": {
     "start_time": "2019-05-01T18:30:44.460Z"
    }
   },
   "outputs": [],
   "source": [
    "G.add_edges_from(c)"
   ]
  },
  {
   "cell_type": "code",
   "execution_count": null,
   "metadata": {
    "ExecuteTime": {
     "start_time": "2019-05-01T18:30:44.464Z"
    }
   },
   "outputs": [],
   "source": [
    "# nx.draw(G)"
   ]
  },
  {
   "cell_type": "code",
   "execution_count": null,
   "metadata": {
    "ExecuteTime": {
     "start_time": "2019-05-01T18:30:44.467Z"
    }
   },
   "outputs": [],
   "source": [
    "prescriptions.columns"
   ]
  },
  {
   "cell_type": "markdown",
   "metadata": {
    "colab_type": "text",
    "id": "Ltbjy5JP6-JX"
   },
   "source": [
    "# ***STEP 2: VISUALIZATION THROUGH HISTOGRAMS AND NETWORKS***\n",
    "\n",
    "\n",
    "1.   Visualizing Big Pharma companies' connections to doctors (has been donated to) \n",
    "2.   Histogram to show drug price distribution (how many Big Pharma drugs are in the upper price range)\n",
    "\n",
    "Python network visualization modules: Netwulf, [Graph-Tool](https://graph-tool.skewed.de/), [Plotly](https://plot.ly/python/network-graphs/#new-to-plotly)\n",
    " \n",
    "\n"
   ]
  },
  {
   "cell_type": "markdown",
   "metadata": {
    "colab_type": "text",
    "id": "A5mPixkT-WKs"
   },
   "source": [
    "***STEP 3: MACHINE LEARNING***\n",
    "\n",
    "1.   How monetary value of donation accepted might predict how much of a company’s drugs the doctor is likely to prescribe in a given year using **RANDOM FOREST CLASSIFIERS** and **GRADIENT-BOOSTED DECISION TREES**\n",
    "2. Could also investigate specific type of donation: i.e. is free food the easiest way to influence a doctor?\n"
   ]
  },
  {
   "cell_type": "markdown",
   "metadata": {
    "colab_type": "text",
    "id": "E--u3kq3_5_Q"
   },
   "source": [
    "\n",
    "\n",
    "```\n",
    "# This is formatted as code\n",
    "```\n",
    "\n",
    "***STEP 4: MAPREDUCE***\n",
    "\n",
    "1.   Relational triangles between a physician's medical specialty and acceptance of donations from Big Pharma\n"
   ]
  },
  {
   "cell_type": "markdown",
   "metadata": {
    "colab_type": "text",
    "id": "WsIUGMe7Ab3t"
   },
   "source": [
    "***STEP 5: BLOG POST TO SHOW FINDINGS***\n",
    "\n",
    "\n",
    "\n",
    "---\n"
   ]
  },
  {
   "cell_type": "markdown",
   "metadata": {
    "colab_type": "text",
    "id": "ZO-xeHXNEnsE"
   },
   "source": [
    "***MISCELLANEOUS QUESTIONS/CONCERNS:***\n",
    "\n",
    "1.   List item\n",
    "2.   List item\n",
    "\n"
   ]
  }
 ],
 "metadata": {
  "colab": {
   "collapsed_sections": [],
   "name": "Physician_Bias.ipynb",
   "provenance": [],
   "toc_visible": true,
   "version": "0.3.2"
  },
  "kernelspec": {
   "display_name": "Python 3",
   "language": "python",
   "name": "python3"
  },
  "language_info": {
   "codemirror_mode": {
    "name": "ipython",
    "version": 3
   },
   "file_extension": ".py",
   "mimetype": "text/x-python",
   "name": "python",
   "nbconvert_exporter": "python",
   "pygments_lexer": "ipython3",
   "version": "3.6.0"
  },
  "toc": {
   "base_numbering": 1,
   "nav_menu": {},
   "number_sections": true,
   "sideBar": true,
   "skip_h1_title": false,
   "title_cell": "Table of Contents",
   "title_sidebar": "Contents",
   "toc_cell": false,
   "toc_position": {},
   "toc_section_display": true,
   "toc_window_display": false
  }
 },
 "nbformat": 4,
 "nbformat_minor": 1
}
